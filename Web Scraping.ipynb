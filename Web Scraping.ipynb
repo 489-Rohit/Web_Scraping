{
 "cells": [
  {
   "cell_type": "code",
   "execution_count": 1,
   "id": "b90d332c",
   "metadata": {},
   "outputs": [],
   "source": [
    "from bs4 import BeautifulSoup"
   ]
  },
  {
   "cell_type": "code",
   "execution_count": 2,
   "id": "4dd887e7",
   "metadata": {},
   "outputs": [],
   "source": [
    "import requests\n",
    "import pandas as pd"
   ]
  },
  {
   "cell_type": "code",
   "execution_count": 3,
   "id": "bd77d895",
   "metadata": {},
   "outputs": [],
   "source": [
    "url = 'http://quotes.toscrape.com/'\n",
    "response = requests.get(url)\n",
    "soup = BeautifulSoup(response.content, 'html.parser')\n",
    "quotes_on_page = soup.find_all('div', class_='quote')\n",
    "    "
   ]
  },
  {
   "cell_type": "code",
   "execution_count": 4,
   "id": "cf89ab97",
   "metadata": {},
   "outputs": [
    {
     "name": "stdout",
     "output_type": "stream",
     "text": [
      "“The world as we have created it is a process of our thinking. It cannot be changed without changing our thinking.”\n",
      "“It is our choices, Harry, that show what we truly are, far more than our abilities.”\n",
      "“There are only two ways to live your life. One is as though nothing is a miracle. The other is as though everything is a miracle.”\n",
      "“The person, be it gentleman or lady, who has not pleasure in a good novel, must be intolerably stupid.”\n",
      "“Imperfection is beauty, madness is genius and it's better to be absolutely ridiculous than absolutely boring.”\n",
      "“Try not to become a man of success. Rather become a man of value.”\n",
      "“It is better to be hated for what you are than to be loved for what you are not.”\n",
      "“I have not failed. I've just found 10,000 ways that won't work.”\n",
      "“A woman is like a tea bag; you never know how strong it is until it's in hot water.”\n",
      "“A day without sunshine is like, you know, night.”\n"
     ]
    }
   ],
   "source": [
    "for quote in quotes_on_page:\n",
    "    Text = quote.find('span', class_='text').text\n",
    " \n",
    "    print(Text)"
   ]
  },
  {
   "cell_type": "code",
   "execution_count": 5,
   "id": "a8ca4be7",
   "metadata": {},
   "outputs": [
    {
     "name": "stdout",
     "output_type": "stream",
     "text": [
      "Albert Einstein\n",
      "J.K. Rowling\n",
      "Albert Einstein\n",
      "Jane Austen\n",
      "Marilyn Monroe\n",
      "Albert Einstein\n",
      "André Gide\n",
      "Thomas A. Edison\n",
      "Eleanor Roosevelt\n",
      "Steve Martin\n"
     ]
    }
   ],
   "source": [
    "for quote in quotes_on_page:\n",
    "    Author = quote.find('small',class_='author').text\n",
    "    \n",
    "    print(Author)"
   ]
  },
  {
   "cell_type": "code",
   "execution_count": 6,
   "id": "b8081d63",
   "metadata": {},
   "outputs": [
    {
     "name": "stdout",
     "output_type": "stream",
     "text": [
      "['change', 'deep-thoughts', 'thinking', 'world']\n",
      "['abilities', 'choices']\n",
      "['inspirational', 'life', 'live', 'miracle', 'miracles']\n",
      "['aliteracy', 'books', 'classic', 'humor']\n",
      "['be-yourself', 'inspirational']\n",
      "['adulthood', 'success', 'value']\n",
      "['life', 'love']\n",
      "['edison', 'failure', 'inspirational', 'paraphrased']\n",
      "['misattributed-eleanor-roosevelt']\n",
      "['humor', 'obvious', 'simile']\n"
     ]
    }
   ],
   "source": [
    "for quote in quotes_on_page:\n",
    "    Tags = [tag.text for tag in quote.find_all('a', class_='tag')]\n",
    "    \n",
    "    print(Tags)"
   ]
  },
  {
   "cell_type": "code",
   "execution_count": 7,
   "id": "bad4e8da",
   "metadata": {},
   "outputs": [],
   "source": [
    "quotes_on_page = soup.find_all('div', class_='quote')\n",
    "\n",
    "quotes = []\n",
    "\n",
    "for quote in quotes_on_page:\n",
    "    Text = quote.find('span', class_='text').text\n",
    "    Author = quote.find('small',class_='author').text\n",
    "    Tags = [tag.text for tag in quote.find_all('a', class_='tag')]\n",
    "    quotes.append([Text,Author,Tags])"
   ]
  },
  {
   "cell_type": "code",
   "execution_count": 8,
   "id": "35e84c9b",
   "metadata": {},
   "outputs": [
    {
     "name": "stdout",
     "output_type": "stream",
     "text": [
      "[['“The world as we have created it is a process of our thinking. It cannot be changed without changing our thinking.”', 'Albert Einstein', ['change', 'deep-thoughts', 'thinking', 'world']], ['“It is our choices, Harry, that show what we truly are, far more than our abilities.”', 'J.K. Rowling', ['abilities', 'choices']], ['“There are only two ways to live your life. One is as though nothing is a miracle. The other is as though everything is a miracle.”', 'Albert Einstein', ['inspirational', 'life', 'live', 'miracle', 'miracles']], ['“The person, be it gentleman or lady, who has not pleasure in a good novel, must be intolerably stupid.”', 'Jane Austen', ['aliteracy', 'books', 'classic', 'humor']], [\"“Imperfection is beauty, madness is genius and it's better to be absolutely ridiculous than absolutely boring.”\", 'Marilyn Monroe', ['be-yourself', 'inspirational']], ['“Try not to become a man of success. Rather become a man of value.”', 'Albert Einstein', ['adulthood', 'success', 'value']], ['“It is better to be hated for what you are than to be loved for what you are not.”', 'André Gide', ['life', 'love']], [\"“I have not failed. I've just found 10,000 ways that won't work.”\", 'Thomas A. Edison', ['edison', 'failure', 'inspirational', 'paraphrased']], [\"“A woman is like a tea bag; you never know how strong it is until it's in hot water.”\", 'Eleanor Roosevelt', ['misattributed-eleanor-roosevelt']], ['“A day without sunshine is like, you know, night.”', 'Steve Martin', ['humor', 'obvious', 'simile']]]\n"
     ]
    }
   ],
   "source": [
    "print(quotes)"
   ]
  },
  {
   "cell_type": "code",
   "execution_count": 9,
   "id": "4b05dce0",
   "metadata": {},
   "outputs": [],
   "source": [
    "quotes = [] \n",
    "\n",
    "for i in range(1,11):\n",
    "    url = f'http://quotes.toscrape.com/page/{i}/'\n",
    "    response = requests.get(url)\n",
    "    soup = BeautifulSoup(response.content, 'html.parser')\n",
    "    quotes_on_page = soup.find_all('div', class_='quote')\n",
    "    \n",
    "    for quote in quotes_on_page:\n",
    "        Text = quote.find('span', class_='text').text\n",
    "        Author = quote.find('small',class_='author').text\n",
    "        Tags = [tag.text for tag in quote.find_all('a', class_='tag')]\n",
    "        quotes.append([Text,Author,Tags])"
   ]
  },
  {
   "cell_type": "code",
   "execution_count": 10,
   "id": "daedbbc9",
   "metadata": {},
   "outputs": [
    {
     "data": {
      "text/html": [
       "<div>\n",
       "<style scoped>\n",
       "    .dataframe tbody tr th:only-of-type {\n",
       "        vertical-align: middle;\n",
       "    }\n",
       "\n",
       "    .dataframe tbody tr th {\n",
       "        vertical-align: top;\n",
       "    }\n",
       "\n",
       "    .dataframe thead th {\n",
       "        text-align: right;\n",
       "    }\n",
       "</style>\n",
       "<table border=\"1\" class=\"dataframe\">\n",
       "  <thead>\n",
       "    <tr style=\"text-align: right;\">\n",
       "      <th></th>\n",
       "      <th>Text</th>\n",
       "      <th>Author</th>\n",
       "      <th>Tags</th>\n",
       "    </tr>\n",
       "  </thead>\n",
       "  <tbody>\n",
       "    <tr>\n",
       "      <th>95</th>\n",
       "      <td>“You never really understand a person until yo...</td>\n",
       "      <td>Harper Lee</td>\n",
       "      <td>[better-life-empathy]</td>\n",
       "    </tr>\n",
       "    <tr>\n",
       "      <th>96</th>\n",
       "      <td>“You have to write the book that wants to be w...</td>\n",
       "      <td>Madeleine L'Engle</td>\n",
       "      <td>[books, children, difficult, grown-ups, write,...</td>\n",
       "    </tr>\n",
       "    <tr>\n",
       "      <th>97</th>\n",
       "      <td>“Never tell the truth to people who are not wo...</td>\n",
       "      <td>Mark Twain</td>\n",
       "      <td>[truth]</td>\n",
       "    </tr>\n",
       "    <tr>\n",
       "      <th>98</th>\n",
       "      <td>“A person's a person, no matter how small.”</td>\n",
       "      <td>Dr. Seuss</td>\n",
       "      <td>[inspirational]</td>\n",
       "    </tr>\n",
       "    <tr>\n",
       "      <th>99</th>\n",
       "      <td>“... a mind needs books as a sword needs a whe...</td>\n",
       "      <td>George R.R. Martin</td>\n",
       "      <td>[books, mind]</td>\n",
       "    </tr>\n",
       "  </tbody>\n",
       "</table>\n",
       "</div>"
      ],
      "text/plain": [
       "                                                 Text              Author  \\\n",
       "95  “You never really understand a person until yo...          Harper Lee   \n",
       "96  “You have to write the book that wants to be w...   Madeleine L'Engle   \n",
       "97  “Never tell the truth to people who are not wo...          Mark Twain   \n",
       "98        “A person's a person, no matter how small.”           Dr. Seuss   \n",
       "99  “... a mind needs books as a sword needs a whe...  George R.R. Martin   \n",
       "\n",
       "                                                 Tags  \n",
       "95                              [better-life-empathy]  \n",
       "96  [books, children, difficult, grown-ups, write,...  \n",
       "97                                            [truth]  \n",
       "98                                    [inspirational]  \n",
       "99                                      [books, mind]  "
      ]
     },
     "execution_count": 10,
     "metadata": {},
     "output_type": "execute_result"
    }
   ],
   "source": [
    "df = pd.DataFrame(quotes, columns =['Text', 'Author','Tags'])\n",
    "df.tail()"
   ]
  },
  {
   "cell_type": "code",
   "execution_count": 11,
   "id": "25bafca7",
   "metadata": {},
   "outputs": [],
   "source": [
    "df.to_csv(\"Scraped_Quote\")"
   ]
  },
  {
   "cell_type": "code",
   "execution_count": null,
   "id": "a26b82f5",
   "metadata": {},
   "outputs": [],
   "source": []
  }
 ],
 "metadata": {
  "kernelspec": {
   "display_name": "Python 3 (ipykernel)",
   "language": "python",
   "name": "python3"
  },
  "language_info": {
   "codemirror_mode": {
    "name": "ipython",
    "version": 3
   },
   "file_extension": ".py",
   "mimetype": "text/x-python",
   "name": "python",
   "nbconvert_exporter": "python",
   "pygments_lexer": "ipython3",
   "version": "3.10.9"
  }
 },
 "nbformat": 4,
 "nbformat_minor": 5
}
